{
 "cells": [
  {
   "cell_type": "code",
   "execution_count": 31,
   "metadata": {
    "collapsed": false
   },
   "outputs": [
    {
     "name": "stdout",
     "output_type": "stream",
     "text": [
      "0.011162042617797852 seconds\n"
     ]
    }
   ],
   "source": [
    "#Part1\n",
    "#This program use to get final outcomes of task1 and task3, restaurant\n",
    "import csv\n",
    "from time import time\n",
    "\n",
    "s1=time()\n",
    "Sent=[]\n",
    "AT=[]\n",
    "with open('/Users/xizhaohan/Desktop/Project2/temporary files/use to get final outcomes/task1_restaurant.csv', 'r') as file:\n",
    "    reader = csv.reader(file)\n",
    "    for row in reader:\n",
    "        Sent.append(row[1])\n",
    "        ATraw=row[0].strip('()').split(')(')\n",
    "        samesentAT=[tuple(ele1.split('#')) for ele1 in ATraw]\n",
    "        AT+=samesentAT\n",
    "file.close()\n",
    "\n",
    "ATwrite=[]\n",
    "for sublist in AT:\n",
    "    terms=''\n",
    "    for i in range(len(sublist)):\n",
    "        if i!=len(sublist)-1:\n",
    "            terms+=sublist[i]+',  '\n",
    "        else: \n",
    "            terms+=sublist[i]\n",
    "    ATwrite.append(terms) \n",
    "\n",
    "AC=[]\n",
    "with open('/Users/xizhaohan/Desktop/Project2/temporary files/use to get final outcomes/task3_restaurant.csv', 'r') as file:\n",
    "    reader = csv.reader(file)\n",
    "    for row in reader:\n",
    "        ACraw=row[0].strip('()').split(')(')\n",
    "        samesentAC=[tuple(ele.split('#')) for ele in ACraw]\n",
    "        AC+=samesentAC\n",
    "file.close()\n",
    "\n",
    "ACwrite=[]\n",
    "for sublist in AC:\n",
    "    terms=''\n",
    "    for i in range(len(sublist)):\n",
    "        if i!=len(sublist)-1:\n",
    "            terms+=sublist[i]+',  '\n",
    "        else: \n",
    "            terms+=sublist[i]\n",
    "    ACwrite.append(terms) \n",
    "    \n",
    "with open( '/Users/xizhaohan/Desktop/Project2/outcomes/restaurant/task1&3_restaurant.csv', 'w') as file:\n",
    "    writer = csv.writer(file)\n",
    "    writer.writerow(('Aspect term','Aspect category','Review text'))\n",
    "    for col1,col2,col3 in zip(ATwrite,ACwrite, Sent):\n",
    "        writer.writerow((str(col1),str(col2),str(col3)))\n",
    "file.close()\n",
    "\n",
    "s2=time()\n",
    "print(s2-s1,'seconds')"
   ]
  },
  {
   "cell_type": "code",
   "execution_count": 24,
   "metadata": {
    "collapsed": false
   },
   "outputs": [
    {
     "name": "stdout",
     "output_type": "stream",
     "text": [
      "0.0067560672760009766 seconds\n"
     ]
    }
   ],
   "source": [
    "#Part2\n",
    "#This program use to get final outcomes of task1_laptop\n",
    "import csv\n",
    "from time import time\n",
    "\n",
    "s1=time()\n",
    "Sent=[]\n",
    "AT=[]\n",
    "with open('/Users/xizhaohan/Desktop/Project2/temporary files/use to get final outcomes/task1_laptop.csv', 'r') as file:\n",
    "    reader = csv.reader(file)\n",
    "    for row in reader:\n",
    "        if len(row):\n",
    "            Sent.append(row[1])\n",
    "            ATraw=row[0].strip('()').split(')(')\n",
    "            samesentAT=[tuple(ele.split('#')) for ele in ATraw]\n",
    "            AT+=samesentAT\n",
    "file.close()\n",
    "\n",
    "ATwrite=[]\n",
    "for sublist in AT:\n",
    "    terms=''\n",
    "    for i in range(len(sublist)):\n",
    "        if i!=len(sublist)-1:\n",
    "            terms+=sublist[i]+',  '\n",
    "        else: \n",
    "            terms+=sublist[i]\n",
    "    ATwrite.append(terms) \n",
    "    \n",
    "with open( '/Users/xizhaohan/Desktop/Project2/outcomes/laptop/task1_laptop.csv', 'w') as file:\n",
    "    writer = csv.writer(file)\n",
    "    writer.writerow(('Aspect term','Review text'))\n",
    "    for col1,col2 in zip(ATwrite, Sent):\n",
    "        writer.writerow((str(col1),str(col2)))\n",
    "file.close()\n",
    "\n",
    "s2=time()\n",
    "print(s2-s1,'seconds')"
   ]
  },
  {
   "cell_type": "code",
   "execution_count": 54,
   "metadata": {
    "collapsed": false
   },
   "outputs": [
    {
     "name": "stdout",
     "output_type": "stream",
     "text": [
      "0.013528108596801758 seconds\n"
     ]
    }
   ],
   "source": [
    "#Part3\n",
    "#This program use to get final outcomes of task2 and task4, restaurant\n",
    "import csv\n",
    "from time import time\n",
    "\n",
    "s1=time()\n",
    "Sent=[]\n",
    "AT=[]\n",
    "AC=[]\n",
    "with open('/Users/xizhaohan/Desktop/Project2/temporary files/use to get final outcomes/task2&4_restaurant.csv', 'r') as file:\n",
    "    reader = csv.reader(file)\n",
    "    for row in reader:\n",
    "        Sent.append(row[2])\n",
    "        ATraw=row[0].strip('()').split(')(')\n",
    "        ACraw=row[1].strip('()').split(')(')\n",
    "        samesentAT=[tuple(ele1.split('#')) for ele1 in ATraw]\n",
    "        samesentAC=[tuple(ele.split('#')) for ele in ACraw]\n",
    "        AT.append(samesentAT)\n",
    "        AC.append(samesentAC)\n",
    "file.close()\n",
    "\n",
    "ATwrite=[]\n",
    "for sublist in AT:\n",
    "    terms=''\n",
    "    if len(sublist[0][0])!=0:\n",
    "        for pair in sublist:\n",
    "            if pair!=sublist[len(sublist)-1]:\n",
    "                terms+='('+pair[0]+', '+pair[1]+');  ' \n",
    "            else:\n",
    "                terms+='('+pair[0]+', '+pair[1]+')'\n",
    "    ATwrite.append(terms)\n",
    "\n",
    "ACwrite=[]\n",
    "for sublist in AC:\n",
    "    terms=''\n",
    "    for pair in sublist:\n",
    "        if pair!=sublist[len(sublist)-1]:\n",
    "            terms+='('+pair[0]+', '+pair[1]+');  ' \n",
    "        else:\n",
    "            terms+='('+pair[0]+', '+pair[1]+')'     \n",
    "    ACwrite.append(terms)\n",
    "\n",
    "with open( '/Users/xizhaohan/Desktop/Project2/outcomes/restaurant/task2&4_restaurant.csv', 'w') as file:\n",
    "    writer = csv.writer(file)\n",
    "    writer.writerow(('Aspect term','Aspect category','Review text'))\n",
    "    for col1,col2,col3 in zip(ATwrite,ACwrite, Sent):\n",
    "        writer.writerow((str(col1),str(col2),str(col3)))\n",
    "file.close()\n",
    "\n",
    "s2=time()\n",
    "print(s2-s1,'seconds')"
   ]
  },
  {
   "cell_type": "code",
   "execution_count": 56,
   "metadata": {
    "collapsed": false
   },
   "outputs": [
    {
     "name": "stdout",
     "output_type": "stream",
     "text": [
      "0.007880926132202148 seconds\n"
     ]
    }
   ],
   "source": [
    "#Part4\n",
    "#This program use to get final outcomes of task2 laptop\n",
    "import csv\n",
    "from time import time\n",
    "\n",
    "s1=time()\n",
    "Sent=[]\n",
    "AT=[]\n",
    "with open('/Users/xizhaohan/Desktop/Project2/temporary files/use to get final outcomes/task2_laptop.csv', 'r') as file:\n",
    "    reader = csv.reader(file)\n",
    "    for row in reader:\n",
    "        Sent.append(row[1])\n",
    "        ATraw=row[0].strip('()').split(')(')\n",
    "        samesentAT=[tuple(ele1.split('#')) for ele1 in ATraw]\n",
    "        AT.append(samesentAT)\n",
    "file.close()\n",
    "\n",
    "ATwrite=[]\n",
    "for sublist in AT:\n",
    "    terms=''\n",
    "    if len(sublist[0][0])!=0:\n",
    "        for pair in sublist:\n",
    "            if pair!=sublist[len(sublist)-1]:\n",
    "                terms+='('+pair[0]+', '+pair[1]+');  '\n",
    "            else:\n",
    "                terms+='('+pair[0]+', '+pair[1]+')'\n",
    "    ATwrite.append(terms)\n",
    "\n",
    "with open( '/Users/xizhaohan/Desktop/Project2/outcomes/laptop/task2_laptop.csv', 'w') as file:\n",
    "    writer = csv.writer(file)\n",
    "    writer.writerow(('Aspect term','Review text'))\n",
    "    for col1,col2 in zip(ATwrite, Sent):\n",
    "        writer.writerow((str(col1),str(col2)))\n",
    "file.close()\n",
    "\n",
    "s2=time()\n",
    "print(s2-s1,'seconds')"
   ]
  },
  {
   "cell_type": "code",
   "execution_count": null,
   "metadata": {
    "collapsed": true
   },
   "outputs": [],
   "source": []
  }
 ],
 "metadata": {
  "kernelspec": {
   "display_name": "Python [Root]",
   "language": "python",
   "name": "Python [Root]"
  },
  "language_info": {
   "codemirror_mode": {
    "name": "ipython",
    "version": 3
   },
   "file_extension": ".py",
   "mimetype": "text/x-python",
   "name": "python",
   "nbconvert_exporter": "python",
   "pygments_lexer": "ipython3",
   "version": "3.5.2"
  }
 },
 "nbformat": 4,
 "nbformat_minor": 0
}
