{
 "cells": [
  {
   "cell_type": "code",
   "execution_count": 2,
   "metadata": {
    "collapsed": false
   },
   "outputs": [
    {
     "name": "stdout",
     "output_type": "stream",
     "text": [
      "total time is: 0.4352288246154785 seconds\n"
     ]
    }
   ],
   "source": [
    "import xml.etree.ElementTree as ET\n",
    "import xml.dom.minidom\n",
    "from time import time\n",
    "import csv\n",
    "                ################################################\n",
    "                ########### 1. Resturant Train Data ############\n",
    "                ################################################\n",
    "start=time()\n",
    "doc_trainRST = xml.dom.minidom.parse('/Users/xizhaohan/Desktop/498project2/data/train/Restaurants_Train_v2.xml')\n",
    "docroot_trainRST = doc_trainRST.documentElement\n",
    "\n",
    "text_trainRST=docroot_trainRST.getElementsByTagName('text')\n",
    "Sentence_TrainRST=[]\n",
    "for sent in text_trainRST:\n",
    "    Sentence_TrainRST.append(sent.firstChild.data)\n",
    "    \n",
    "    \n",
    "    \n",
    "tree_trainRST = ET.ElementTree(file='/Users/xizhaohan/Desktop/498project2/data/train/Restaurants_Train_v2.xml')\n",
    "treeroot_trainRST=tree_trainRST.getroot()\n",
    "\n",
    "Term_and_Polarity_TrainRST=[]\n",
    "Category_and_Polarity_TrainRST=[]\n",
    "for sentence in treeroot_trainRST:\n",
    "    tempsent1=''\n",
    "    tempsent2=''\n",
    "    if len(sentence)==3:\n",
    "        for AT in sentence[1]:\n",
    "            Term=AT.attrib\n",
    "            tempsent1+='('+Term['term']+'#'+Term['polarity']+')'\n",
    "        for AC in sentence[2]:\n",
    "            Category=AC.attrib\n",
    "            tempsent2+='('+Category['category']+'#'+Category['polarity']+')'\n",
    "    if len(sentence)==2:\n",
    "        for A in sentence[1]:\n",
    "            Aspect=A.attrib\n",
    "            if 'term' in Aspect:\n",
    "                tempsent1+='('+Aspect['term']+'#'+Aspect['polarity']+')'\n",
    "            else:\n",
    "                tempsent2+='('+Aspect['category']+'#'+Aspect['polarity']+')'\n",
    "\n",
    "    Term_and_Polarity_TrainRST.append(tempsent1)\n",
    "    Category_and_Polarity_TrainRST.append(tempsent2)\n",
    "\n",
    "with open( '/Users/xizhaohan/Desktop/XML_to_CSV/Train_restaurant.csv', 'w') as file:\n",
    "    writer = csv.writer(file)\n",
    "    for col1,col2,col3 in zip(Term_and_Polarity_TrainRST,Category_and_Polarity_TrainRST,Sentence_TrainRST):\n",
    "        writer.writerow([str(col1),str(col2),str(col3)])\n",
    "file.close()\n",
    "\n",
    "stop=time()\n",
    "print('total time is:',stop-start,'seconds')"
   ]
  },
  {
   "cell_type": "code",
   "execution_count": 3,
   "metadata": {
    "collapsed": false
   },
   "outputs": [
    {
     "name": "stdout",
     "output_type": "stream",
     "text": [
      "total time is: 0.30524396896362305 seconds\n"
     ]
    }
   ],
   "source": [
    "import xml.etree.ElementTree as ET\n",
    "import xml.dom.minidom\n",
    "from time import time\n",
    "import csv\n",
    "                #############################################\n",
    "                ########### 2. Laptop Train Data ############\n",
    "                #############################################\n",
    "            \n",
    "start=time()\n",
    "doc_trainLPT = xml.dom.minidom.parse('/Users/xizhaohan/Desktop/498project2/data/train/Laptop_Train_v2.xml')\n",
    "docroot_trainLPT = doc_trainLPT.documentElement\n",
    "\n",
    "text_trainLPT=docroot_trainLPT.getElementsByTagName('text')\n",
    "Sentence_TrainLPT=[]\n",
    "for sent in text_trainLPT:\n",
    "    Sentence_TrainLPT.append(sent.firstChild.data)\n",
    "\n",
    "tree_trainLPT = ET.ElementTree(file='/Users/xizhaohan/Desktop/498project2/data/train/Laptop_Train_v2.xml')\n",
    "treeroot_trainLPT=tree_trainLPT.getroot()\n",
    "\n",
    "Term_and_Polarity_TrainLPT=[]\n",
    "for sentence in treeroot_trainLPT:\n",
    "    tempsent1=''\n",
    "    if len(sentence)==2:\n",
    "        for AT in sentence[1]:\n",
    "            Term=AT.attrib\n",
    "            if 'term' in Term:\n",
    "                tempsent1+='('+Term['term']+'#'+Term['polarity']+')'\n",
    "    Term_and_Polarity_TrainLPT.append(tempsent1)\n",
    "\n",
    "with open( '/Users/xizhaohan/Desktop/XML_to_CSV/Train_laptop.csv', 'w') as file:\n",
    "    writer = csv.writer(file)\n",
    "    for col1,col2 in zip(Term_and_Polarity_TrainLPT,Sentence_TrainLPT):\n",
    "        writer.writerow([str(col1),str(col2)])\n",
    "file.close()\n",
    "\n",
    "stop=time()\n",
    "print('total time is:',stop-start,'seconds')"
   ]
  },
  {
   "cell_type": "code",
   "execution_count": 4,
   "metadata": {
    "collapsed": false
   },
   "outputs": [
    {
     "name": "stdout",
     "output_type": "stream",
     "text": [
      "total time is: 0.025501012802124023 seconds\n"
     ]
    }
   ],
   "source": [
    "import xml.etree.ElementTree as ET\n",
    "import xml.dom.minidom\n",
    "from time import time\n",
    "import csv\n",
    "                #################################################\n",
    "                ########### 3. Resturant Test Data A ############\n",
    "                #################################################\n",
    "            \n",
    "start=time()\n",
    "doc = xml.dom.minidom.parse('/Users/xizhaohan/Desktop/498project2/data/test/Restaurants_Test_Data_PhaseA.xml')\n",
    "docroot = doc.documentElement\n",
    "\n",
    "text=docroot.getElementsByTagName('text')\n",
    "Sentence=[]\n",
    "for sent in text:\n",
    "    Sentence.append(sent.firstChild.data)\n",
    "\n",
    "with open( '/Users/xizhaohan/Desktop/XML_to_CSV/Test_restaurant_PhaseA.csv', 'w') as file:\n",
    "    writer = csv.writer(file)\n",
    "    for col1 in Sentence:\n",
    "        writer.writerow([str(col1)])\n",
    "file.close()\n",
    "\n",
    "stop=time()\n",
    "print('total time is:',stop-start,'seconds')"
   ]
  },
  {
   "cell_type": "code",
   "execution_count": 5,
   "metadata": {
    "collapsed": false
   },
   "outputs": [
    {
     "name": "stdout",
     "output_type": "stream",
     "text": [
      "total time is: 0.08923697471618652 seconds\n"
     ]
    }
   ],
   "source": [
    "import xml.etree.ElementTree as ET\n",
    "import xml.dom.minidom\n",
    "from time import time\n",
    "import csv\n",
    "                #################################################\n",
    "                ########### 4. Resturant Test Data B ############\n",
    "                #################################################\n",
    "\n",
    "\n",
    "start=time()\n",
    "doc= xml.dom.minidom.parse('/Users/xizhaohan/Desktop/498project2/data/test/Restaurants_Test_Data_phaseB.xml')\n",
    "docroot = doc.documentElement\n",
    "\n",
    "text=docroot.getElementsByTagName('text')\n",
    "Sentences=[]\n",
    "for sent in text:\n",
    "    Sentences.append(sent.firstChild.data)\n",
    "    \n",
    "tree = ET.ElementTree(file='/Users/xizhaohan/Desktop/498project2/data/test/Restaurants_Test_Data_phaseB.xml')\n",
    "treeroot=tree.getroot()\n",
    "\n",
    "Terms=[]\n",
    "Categories=[]\n",
    "for sentence in treeroot:\n",
    "    tempsent1=''\n",
    "    tempsent2=''\n",
    "    if len(sentence)==3:\n",
    "        for AT in sentence[1]:\n",
    "            Term=AT.attrib\n",
    "            tempsent1+='('+Term['term']+')'\n",
    "        for AC in sentence[2]:\n",
    "            Category=AC.attrib\n",
    "            tempsent2+='('+Category['category']+')'\n",
    "    if len(sentence)==2:\n",
    "        for A in sentence[1]:\n",
    "            Aspect=A.attrib\n",
    "            if 'term' in Aspect:\n",
    "                tempsent1+='('+Aspect['term']+')'\n",
    "            else:\n",
    "                tempsent2+='('+Aspect['category']+')'\n",
    "\n",
    "    Terms.append(tempsent1)\n",
    "    Categories.append(tempsent2)\n",
    "\n",
    "with open( '/Users/xizhaohan/Desktop/XML_to_CSV/Test_restaurant_PhaseB.csv', 'w') as file:\n",
    "    writer = csv.writer(file)\n",
    "    for col1,col2,col3 in zip(Terms,Categories,Sentences):\n",
    "        writer.writerow([str(col1),str(col2),str(col3)])\n",
    "file.close()\n",
    "\n",
    "stop=time()\n",
    "print('total time is:',stop-start,'seconds')"
   ]
  },
  {
   "cell_type": "code",
   "execution_count": 6,
   "metadata": {
    "collapsed": false
   },
   "outputs": [
    {
     "name": "stdout",
     "output_type": "stream",
     "text": [
      "total time is: 0.026248931884765625 seconds\n"
     ]
    }
   ],
   "source": [
    "import xml.etree.ElementTree as ET\n",
    "import xml.dom.minidom\n",
    "from time import time\n",
    "import csv\n",
    "                ##############################################\n",
    "                ########### 5. Laptop Test Data A ############\n",
    "                ##############################################\n",
    "            \n",
    "start=time()\n",
    "doc = xml.dom.minidom.parse('/Users/xizhaohan/Desktop/498project2/data/test/Laptops_Test_Data_PhaseA.xml')\n",
    "docroot = doc.documentElement\n",
    "\n",
    "text=docroot.getElementsByTagName('text')\n",
    "Sentence=[]\n",
    "for sent in text:\n",
    "    Sentence.append(sent.firstChild.data)\n",
    "\n",
    "with open( '/Users/xizhaohan/Desktop/XML_to_CSV/Test_laptop_PhaseA.csv', 'w') as file:\n",
    "    writer = csv.writer(file)\n",
    "    for col1 in Sentence:\n",
    "        writer.writerow([str(col1)])\n",
    "file.close()\n",
    "\n",
    "stop=time()\n",
    "print('total time is:',stop-start,'seconds')\n",
    "\n"
   ]
  },
  {
   "cell_type": "code",
   "execution_count": 7,
   "metadata": {
    "collapsed": false
   },
   "outputs": [
    {
     "name": "stdout",
     "output_type": "stream",
     "text": [
      "total time is: 0.11002111434936523 seconds\n"
     ]
    }
   ],
   "source": [
    "import xml.etree.ElementTree as ET\n",
    "import xml.dom.minidom\n",
    "from time import time\n",
    "import csv\n",
    "                ##############################################\n",
    "                ########### 6. Laptop Test Data B ############\n",
    "                ##############################################\n",
    "\n",
    "start=time()\n",
    "doc= xml.dom.minidom.parse('/Users/xizhaohan/Desktop/498project2/data/test/Laptops_Test_Data_phaseB.xml')\n",
    "docroot = doc.documentElement\n",
    "\n",
    "text=docroot.getElementsByTagName('text')\n",
    "Sentences=[]\n",
    "for sent in text:\n",
    "    Sentences.append(sent.firstChild.data)\n",
    "    \n",
    "tree = ET.ElementTree(file='/Users/xizhaohan/Desktop/498project2/data/test/Laptops_Test_Data_phaseB.xml')\n",
    "treeroot=tree.getroot()\n",
    "\n",
    "Terms=[]\n",
    "for sentence in treeroot:\n",
    "    tempsent1=''\n",
    "    if len(sentence)==2:\n",
    "        for AT in sentence[1]:\n",
    "            Term=AT.attrib\n",
    "            if 'term' in Term:\n",
    "                tempsent1+='('+Term['term']+')'\n",
    "    Terms.append(tempsent1)\n",
    "\n",
    "with open( '/Users/xizhaohan/Desktop/XML_to_CSV/Test_laptop_PhaseB.csv', 'w') as file:\n",
    "    writer = csv.writer(file)\n",
    "    for col1,col2 in zip(Terms,Sentences):\n",
    "        writer.writerow([str(col1),str(col2)])\n",
    "file.close()\n",
    "\n",
    "stop=time()\n",
    "print('total time is:',stop-start,'seconds')"
   ]
  },
  {
   "cell_type": "code",
   "execution_count": null,
   "metadata": {
    "collapsed": true
   },
   "outputs": [],
   "source": []
  }
 ],
 "metadata": {
  "anaconda-cloud": {},
  "kernelspec": {
   "display_name": "Python [Root]",
   "language": "python",
   "name": "Python [Root]"
  },
  "language_info": {
   "codemirror_mode": {
    "name": "ipython",
    "version": 3
   },
   "file_extension": ".py",
   "mimetype": "text/x-python",
   "name": "python",
   "nbconvert_exporter": "python",
   "pygments_lexer": "ipython3",
   "version": "3.5.2"
  }
 },
 "nbformat": 4,
 "nbformat_minor": 0
}
